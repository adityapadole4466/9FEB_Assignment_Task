{
 "cells": [
  {
   "cell_type": "code",
   "execution_count": 5,
   "id": "87938c9a-02ea-4064-9e73-488826031804",
   "metadata": {},
   "outputs": [
    {
     "name": "stdout",
     "output_type": "stream",
     "text": [
      "Generic Vehicle\n",
      "100\n",
      "10.0\n"
     ]
    }
   ],
   "source": [
    "\"\"\" Q1, Create a vehicle class with an init method having instance variables as name_of_vehicle, max_speed\n",
    "and average_of_vehicle. \"\"\"\n",
    "class Vehicle:\n",
    "    def __init__(self, name_of_vehicle, max_speed, average_of_vehicle):\n",
    "        self.name_of_vehicle = name_of_vehicle\n",
    "        self.max_speed = max_speed\n",
    "        self.average_of_vehicle = average_of_vehicle\n",
    "vehicle = Vehicle(\"Generic Vehicle\", 100, 10.0)\n",
    "print(vehicle.name_of_vehicle)  \n",
    "print(vehicle.max_speed)        \n",
    "print(vehicle.average_of_vehicle)  \n"
   ]
  },
  {
   "cell_type": "code",
   "execution_count": 6,
   "id": "5450ee5a-e656-48bd-a411-0de55346ab27",
   "metadata": {},
   "outputs": [
    {
     "name": "stdout",
     "output_type": "stream",
     "text": [
      "Toyota Camry has a seating capacity of 5 people\n"
     ]
    }
   ],
   "source": [
    "\"\"\" Q2. Create a child class car from the vehicle class created in Que 1, which will inherit the vehicle class.\n",
    "Create a method named seating_capacity which takes capacity as an argument and returns the name of\n",
    "the vehicle and its seating capacity. \"\"\"\n",
    "class Vehicle:\n",
    "    def __init__(self):\n",
    "        self.name_of_vehicle = None\n",
    "        self.max_speed = 0\n",
    "        self.average_of_vehicle = 0.0\n",
    "\n",
    "    def init(self, name_of_vehicle, max_speed, average_of_vehicle):\n",
    "        self.name_of_vehicle = name_of_vehicle\n",
    "        self.max_speed = max_speed\n",
    "        self.average_of_vehicle = average_of_vehicle\n",
    "\n",
    "class Car(Vehicle):\n",
    "    def seating_capacity(self, capacity):\n",
    "        return f\"{self.name_of_vehicle} has a seating capacity of {capacity} people\"\n",
    "\n",
    "vehicle = Vehicle()\n",
    "vehicle.init(\"Generic Vehicle\", 100, 10.0)\n",
    "car = Car()\n",
    "car.init(\"Toyota Camry\", 120, 15.0)\n",
    "print(car.seating_capacity(5))\n"
   ]
  },
  {
   "cell_type": "code",
   "execution_count": 9,
   "id": "582820b7-b5f5-41e0-928b-332e410aaacd",
   "metadata": {},
   "outputs": [
    {
     "name": "stdout",
     "output_type": "stream",
     "text": [
      "Mammal sound\n"
     ]
    },
    {
     "data": {
      "text/plain": [
       "'\\nIn this example, we have four classes: Animal, Mammal, WingedAnimal, and Bat.\\nMammal and WingedAnimal inherit from the Animal class and implement their own speak method. \\nThe Bat class inherits from both Mammal and WingedAnimal, allowing it to access the speak methods \\nof both parent classes. When we create an instance of the Bat class and call its speak method, \\nit returns the speak method of its first parent class Mammal, because method resolution order in \\nPython is depth-first left-to-right. '"
      ]
     },
     "execution_count": 9,
     "metadata": {},
     "output_type": "execute_result"
    }
   ],
   "source": [
    "\"\"\" Q3. What is multiple inheritance? Write a python code to demonstrate multiple inheritance. \"\"\"\n",
    "\"\"\"   ANS:--> Multiple inheritance is a feature in object-oriented programming where a class can \n",
    "inherit from multiple parent classes. This means that a subclass can have the attributes and methods \n",
    "of multiple parent classes, allowing for greater code reusability and flexibility.\n",
    "Here's an example implementation of multiple inheritance in Python:\"\"\"\n",
    "\n",
    "class Animal:\n",
    "    def __init__(self, name):\n",
    "        self.name = name\n",
    "    \n",
    "    def speak(self):\n",
    "        raise NotImplementedError(\"Subclass must implement abstract method\")\n",
    "\n",
    "class Mammal(Animal):\n",
    "    def __init__(self, name):\n",
    "        super().__init__(name)\n",
    "    \n",
    "    def speak(self):\n",
    "        return \"Mammal sound\"\n",
    "\n",
    "class WingedAnimal(Animal):\n",
    "    def __init__(self, name):\n",
    "        super().__init__(name)\n",
    "    \n",
    "    def speak(self):\n",
    "        return \"Winged animal sound\"\n",
    "\n",
    "class Bat(Mammal, WingedAnimal):\n",
    "    def __init__(self, name):\n",
    "        super().__init__(name)\n",
    "\n",
    "bat = Bat(\"Batty\")\n",
    "print(bat.speak())  \n",
    "\n",
    "\"\"\"\n",
    "In this example, we have four classes: Animal, Mammal, WingedAnimal, and Bat.\n",
    "Mammal and WingedAnimal inherit from the Animal class and implement their own speak method. \n",
    "The Bat class inherits from both Mammal and WingedAnimal, allowing it to access the speak methods \n",
    "of both parent classes. When we create an instance of the Bat class and call its speak method, \n",
    "it returns the speak method of its first parent class Mammal, because method resolution order in \n",
    "Python is depth-first left-to-right. \"\"\""
   ]
  },
  {
   "cell_type": "code",
   "execution_count": 11,
   "id": "a49e152b-1faf-49e8-aa67-7085d226155e",
   "metadata": {},
   "outputs": [
    {
     "name": "stdout",
     "output_type": "stream",
     "text": [
      "John\n",
      "Johnny\n",
      "30\n",
      "30\n",
      "35\n"
     ]
    }
   ],
   "source": [
    "\"\"\"\n",
    "Q4. What are getter and setter in python? Create a class and create a getter and a setter method in this\n",
    "class.\n",
    "ANS:--->\n",
    "In Python, getter and setter methods are used to access and modify the values of\n",
    "private instance variables in a class, respectively. The idea behind using \n",
    "getters and setters is to ensure that any changes made to the variables are valid \n",
    "and adhere to any constraints imposed by the class.\n",
    "\n",
    "Here's an example implementation of a class with a getter and a setter method in Python:\n",
    "\n",
    "\"\"\"\n",
    "class Person:\n",
    "    def __init__(self, name, age):\n",
    "        self._name = name\n",
    "        self._age = age\n",
    "\n",
    "    # getter method to retrieve the value of _name\n",
    "    def get_name(self):\n",
    "        return self._name\n",
    "\n",
    "    # setter method to set the value of _name\n",
    "    def set_name(self, name):\n",
    "        if len(name) > 0:\n",
    "            self._name = name\n",
    "\n",
    "    # getter method to retrieve the value of _age\n",
    "    def get_age(self):\n",
    "        return self._age\n",
    "\n",
    "    # setter method to set the value of _age\n",
    "    def set_age(self, age):\n",
    "        if age >= 0:\n",
    "            self._age = age\n",
    "person = Person(\"John\", 30)\n",
    "print(person.get_name())  \n",
    "person.set_name(\"Johnny\")\n",
    "print(person.get_name())  \n",
    "print(person.get_age())   \n",
    "person.set_age(-5)\n",
    "print(person.get_age())   \n",
    "person.set_age(35)\n",
    "print(person.get_age())   \n"
   ]
  },
  {
   "cell_type": "code",
   "execution_count": 12,
   "id": "11337552-33ee-477d-b9ad-bb28afa399c6",
   "metadata": {},
   "outputs": [
    {
     "name": "stdout",
     "output_type": "stream",
     "text": [
      "Animal sound\n",
      "Meow\n",
      "Woof\n"
     ]
    }
   ],
   "source": [
    "\"\"\"\n",
    "Q5.What is method overriding in python? Write a python code to demonstrate method overriding.\n",
    "ANS:--->Method overriding is a feature in object-oriented programming where a subclass provides\n",
    "its own implementation of a method that is already defined in its parent class. \n",
    "This allows the subclass to customize the behavior of the method to fit its own specific requirements.\n",
    "\"\"\"\n",
    "class Animal:\n",
    "    def speak(self):\n",
    "        print(\"Animal sound\")\n",
    "\n",
    "class Cat(Animal):\n",
    "    def speak(self):\n",
    "        print(\"Meow\")\n",
    "\n",
    "class Dog(Animal):\n",
    "    def speak(self):\n",
    "        print(\"Woof\")\n",
    "\n",
    "animal = Animal()\n",
    "animal.speak()\n",
    "\n",
    "cat = Cat()\n",
    "cat.speak()  \n",
    "\n",
    "dog = Dog()\n",
    "dog.speak() \n"
   ]
  },
  {
   "cell_type": "code",
   "execution_count": null,
   "id": "6a6127f9-8a1b-4312-b999-376c8a78b576",
   "metadata": {},
   "outputs": [],
   "source": []
  }
 ],
 "metadata": {
  "kernelspec": {
   "display_name": "Python 3 (ipykernel)",
   "language": "python",
   "name": "python3"
  },
  "language_info": {
   "codemirror_mode": {
    "name": "ipython",
    "version": 3
   },
   "file_extension": ".py",
   "mimetype": "text/x-python",
   "name": "python",
   "nbconvert_exporter": "python",
   "pygments_lexer": "ipython3",
   "version": "3.10.8"
  }
 },
 "nbformat": 4,
 "nbformat_minor": 5
}
